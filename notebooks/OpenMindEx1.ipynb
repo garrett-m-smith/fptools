{
 "cells": [
  {
   "cell_type": "code",
   "execution_count": 1,
   "metadata": {},
   "outputs": [],
   "source": [
    "from fptools import fp, stochastic, bayes\n",
    "import numpy as np\n",
    "from scipy.linalg import expm\n",
    "import matplotlib.pyplot as plt\n",
    "from scipy.stats import norm, cauchy"
   ]
  },
  {
   "cell_type": "code",
   "execution_count": 2,
   "metadata": {},
   "outputs": [],
   "source": [
    "?fp.make_sys"
   ]
  },
  {
   "cell_type": "code",
   "execution_count": 5,
   "metadata": {},
   "outputs": [
    {
     "name": "stdout",
     "output_type": "stream",
     "text": [
      "[[-10.   5.   5.   0.   0.]\n",
      " [  5. -10.   0.   0.   0.]\n",
      " [  5.   0. -10.   0.   0.]\n",
      " [  0.   5.   0.  -0.   0.]\n",
      " [  0.   0.   5.   0.  -0.]] [[-10.   5.   5.]\n",
      " [  5. -10.   0.]\n",
      " [  5.   0. -10.]] [[0. 5. 0.]\n",
      " [0. 0. 5.]]\n"
     ]
    }
   ],
   "source": [
    "ex1rates = \"\"\"partial, instrument, 1.0\n",
    "instrument, partial, 1.0\n",
    "partial, modifier, 1.0\n",
    "modifier, partial, 1.0\n",
    "instrument, instabs, 1.0\n",
    "modifier, modabs, 1.0\n",
    "\"\"\"\n",
    "_, _, _, W, T, A, _, _ = fp.make_sys(ex1rates)\n",
    "print(W, T, A)"
   ]
  },
  {
   "cell_type": "code",
   "execution_count": 6,
   "metadata": {},
   "outputs": [
    {
     "name": "stdout",
     "output_type": "stream",
     "text": [
      "mean: 0.4, variance: 0.12\n"
     ]
    }
   ],
   "source": [
    "p0 = np.array([1.0, 0, 0])\n",
    "print('mean: {}, variance: {}'.format(*np.round(fp.meanvar(T, p0), 6)))"
   ]
  },
  {
   "cell_type": "code",
   "execution_count": 10,
   "metadata": {},
   "outputs": [
    {
     "name": "stdout",
     "output_type": "stream",
     "text": [
      "Running 2000 stochastic simulations until absorbtion\n"
     ]
    },
    {
     "name": "stderr",
     "output_type": "stream",
     "text": [
      "100%|██████████| 2000/2000 [00:00<00:00, 7540.29it/s]\n"
     ]
    }
   ],
   "source": [
    "stoch = stochastic.rep_ssa(W, n=2000)"
   ]
  },
  {
   "cell_type": "code",
   "execution_count": 18,
   "metadata": {},
   "outputs": [
    {
     "data": {
      "image/png": "[encoded data removed]",
      "text/plain": [
       "<Figure size 432x288 with 1 Axes>"
      ]
     },
     "metadata": {
      "needs_background": "light"
     },
     "output_type": "display_data"
    }
   ],
   "source": [
    "tvec = np.linspace(0.001, 2.5, 200)\n",
    "plt.figure(figsize=(6, 4))\n",
    "plt.plot(tvec, [fp.etd(t, T, A, p0) for t in tvec], 'k')\n",
    "plt.hist(stoch['fpt'], density=True, bins=25, color='lightgrey')\n",
    "plt.xlabel('Exit time (arbitrary units)')\n",
    "plt.ylabel('Probability density')\n",
    "plt.savefig('ex1etd.pdf')\n",
    "plt.show()"
   ]
  },
  {
   "cell_type": "code",
   "execution_count": 19,
   "metadata": {},
   "outputs": [
    {
     "data": {
      "text/plain": [
       "0.1265778894472362"
      ]
     },
     "execution_count": 19,
     "metadata": {},
     "output_type": "execute_result"
    }
   ],
   "source": [
    "# Getting mode\n",
    "tvec[np.argmax([fp.etd(t, T, A, p0) for t in tvec])]"
   ]
  },
  {
   "cell_type": "code",
   "execution_count": 21,
   "metadata": {},
   "outputs": [
    {
     "data": {
      "text/plain": [
       "array([0.5, 0.5])"
      ]
     },
     "execution_count": 21,
     "metadata": {},
     "output_type": "execute_result"
    }
   ],
   "source": [
    "# splitting probabilites\n",
    "fp.splittingprobabilities(T, A, p0)"
   ]
  },
  {
   "cell_type": "code",
   "execution_count": 24,
   "metadata": {},
   "outputs": [
    {
     "name": "stdout",
     "output_type": "stream",
     "text": [
      "[[-15.   5.   5.   0.   0.]\n",
      " [  5. -10.   0.   0.   0.]\n",
      " [ 10.   0. -15.   0.   0.]\n",
      " [  0.   5.   0.  -0.   0.]\n",
      " [  0.   0.  10.   0.  -0.]] [[-15.   5.   5.]\n",
      " [  5. -10.   0.]\n",
      " [ 10.   0. -15.]] [[ 0.  5.  0.]\n",
      " [ 0.  0. 10.]]\n"
     ]
    }
   ],
   "source": [
    "# Changing the transition rates to prefer the modifier parse\n",
    "ex1ratesa = \"\"\"partial, instrument, 1.0\n",
    "instrument, partial, 1.0\n",
    "partial, modifier, 2.0\n",
    "modifier, partial, 1.0\n",
    "instrument, instabs, 1.0\n",
    "modifier, modabs, 2.0\n",
    "\"\"\"\n",
    "_, _, _, Wa, Ta, Aa, _, _ = fp.make_sys(ex1ratesa)\n",
    "print(Wa, Ta, Aa)"
   ]
  },
  {
   "cell_type": "code",
   "execution_count": 60,
   "metadata": {},
   "outputs": [
    {
     "name": "stdout",
     "output_type": "stream",
     "text": [
      "mean (instrument): 0.260606, mean (modifier): 0.227273\n"
     ]
    },
    {
     "data": {
      "text/plain": [
       "array([0.27272727, 0.72727273])"
      ]
     },
     "execution_count": 60,
     "metadata": {},
     "output_type": "execute_result"
    }
   ],
   "source": [
    "print('mean (instrument): {}, mean (modifier): {}'.format(*np.round(fp.cmfpt(Ta, Aa, p0), 6)))\n",
    "fp.splittingprobabilities(Ta, Aa, p0)"
   ]
  },
  {
   "cell_type": "code",
   "execution_count": 61,
   "metadata": {},
   "outputs": [
    {
     "name": "stdout",
     "output_type": "stream",
     "text": [
      "Running 2000 stochastic simulations until absorbtion\n"
     ]
    },
    {
     "name": "stderr",
     "output_type": "stream",
     "text": [
      "100%|██████████| 2000/2000 [00:00<00:00, 7386.67it/s]\n"
     ]
    },
    {
     "data": {
      "text/html": [
       "<div>\n",
       "<style scoped>\n",
       "    .dataframe tbody tr th:only-of-type {\n",
       "        vertical-align: middle;\n",
       "    }\n",
       "\n",
       "    .dataframe tbody tr th {\n",
       "        vertical-align: top;\n",
       "    }\n",
       "\n",
       "    .dataframe thead th {\n",
       "        text-align: right;\n",
       "    }\n",
       "</style>\n",
       "<table border=\"1\" class=\"dataframe\">\n",
       "  <thead>\n",
       "    <tr style=\"text-align: right;\">\n",
       "      <th></th>\n",
       "      <th>fpt</th>\n",
       "      <th>absstate</th>\n",
       "    </tr>\n",
       "  </thead>\n",
       "  <tbody>\n",
       "    <tr>\n",
       "      <th>0</th>\n",
       "      <td>0.321126</td>\n",
       "      <td>4</td>\n",
       "    </tr>\n",
       "    <tr>\n",
       "      <th>1</th>\n",
       "      <td>0.101070</td>\n",
       "      <td>3</td>\n",
       "    </tr>\n",
       "    <tr>\n",
       "      <th>2</th>\n",
       "      <td>0.074187</td>\n",
       "      <td>4</td>\n",
       "    </tr>\n",
       "    <tr>\n",
       "      <th>3</th>\n",
       "      <td>0.352977</td>\n",
       "      <td>4</td>\n",
       "    </tr>\n",
       "    <tr>\n",
       "      <th>4</th>\n",
       "      <td>0.020976</td>\n",
       "      <td>4</td>\n",
       "    </tr>\n",
       "  </tbody>\n",
       "</table>\n",
       "</div>"
      ],
      "text/plain": [
       "        fpt  absstate\n",
       "0  0.321126         4\n",
       "1  0.101070         3\n",
       "2  0.074187         4\n",
       "3  0.352977         4\n",
       "4  0.020976         4"
      ]
     },
     "execution_count": 61,
     "metadata": {},
     "output_type": "execute_result"
    }
   ],
   "source": [
    "stocha = stochastic.rep_ssa(Wa, n=2000)\n",
    "stocha.head()"
   ]
  },
  {
   "cell_type": "code",
   "execution_count": 66,
   "metadata": {},
   "outputs": [
    {
     "data": {
      "image/png": "[encoded data removed]",
      "text/plain": [
       "<Figure size 432x288 with 2 Axes>"
      ]
     },
     "metadata": {
      "needs_background": "light"
     },
     "output_type": "display_data"
    }
   ],
   "source": [
    "fig, axs = plt.subplots(1,2, sharex=True, sharey=True, squeeze=True, figsize=(6,4))\n",
    "tvec = np.linspace(0.001, 1.6, 200)\n",
    "condnames = ['Instrument parse', 'Modifier parse']\n",
    "for i in range(2):\n",
    "    axs.flat[i].plot(tvec, [fp.cfptd(t, Ta, Aa, p0)[i] for t in tvec], 'k')\n",
    "    axs.flat[i].hist(stocha.loc[stocha['absstate']==i+3]['fpt'], density=True, bins=25, color='lightgrey')\n",
    "    axs.flat[i].set_title(condnames[i])\n",
    "    axs.flat[i].axvline(fp.cmfpt(Ta, Aa, p0)[0])\n",
    "fig.supxlabel('Conditional first-passage time\\n(arbitrary time units)')\n",
    "fig.supylabel('Probability density')\n",
    "fig.tight_layout()\n",
    "fig.savefig('ex1cfptd.pdf')\n",
    "plt.show()"
   ]
  },
  {
   "cell_type": "code",
   "execution_count": 57,
   "metadata": {},
   "outputs": [],
   "source": [
    "?fp.cmfpt"
   ]
  }
 ],
 "metadata": {
  "kernelspec": {
   "display_name": "Python 3",
   "language": "python",
   "name": "python3"
  },
  "language_info": {
   "codemirror_mode": {
    "name": "ipython",
    "version": 3
   },
   "file_extension": ".py",
   "mimetype": "text/x-python",
   "name": "python",
   "nbconvert_exporter": "python",
   "pygments_lexer": "ipython3",
   "version": "3.8.5"
  }
 },
 "nbformat": 4,
 "nbformat_minor": 4
}
